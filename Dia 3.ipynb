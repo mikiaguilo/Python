{
 "cells": [
  {
   "cell_type": "markdown",
   "metadata": {},
   "source": [
    "# Tercera clase"
   ]
  },
  {
   "cell_type": "markdown",
   "metadata": {},
   "source": [
    "## Ejercicios"
   ]
  },
  {
   "cell_type": "markdown",
   "metadata": {},
   "source": [
    "Ejercicio 1. Crea un programa que pida al usuario un número de palabras a insertar (mínimo 7).Después, solicita al usuario que\n",
    "introduzca esas palabras y guárdalas en una lista. Muestra la lista completa por pantalla."
   ]
  },
  {
   "cell_type": "code",
   "execution_count": 1,
   "metadata": {},
   "outputs": [
    {
     "name": "stdout",
     "output_type": "stream",
     "text": [
      "['Hola', 'que', 'tal', 'va', 'bien', 'yo', 'si']\n"
     ]
    }
   ],
   "source": [
    "numero=int(input(\"¿Cuátas palabras metemos?\"))\n",
    "lista=[]\n",
    "for i in range(0,numero):\n",
    "    palabra=input(\"Dame una palabra.\")\n",
    "    lista.append(palabra)\n",
    "print(lista)"
   ]
  },
  {
   "cell_type": "markdown",
   "metadata": {},
   "source": [
    "Ejercicio 2. Pide al usuario un número entre 1 y 7 y una palabra. El número introducido indica la posición en la lista anterior cuyo\n",
    "valor será sustituido por la nueva palabra. Muestra la lista actualizada."
   ]
  },
  {
   "cell_type": "code",
   "execution_count": 2,
   "metadata": {},
   "outputs": [],
   "source": [
    "numero=int(input(\"Dame un número entre el 1 y el 7:\"))\n",
    "while numero<1 or numero>7:\n",
    "    print(\"Ep, te he dicho entre el 1 y el 7.\")\n",
    "    numero=int(input(\"Dame un número entre el 1 y el 7:\"))\n",
    "palabra=input(\"Dame una palabra:\")\n",
    "lista[numero-1]=palabra\n",
    "print(lista)\n"
   ]
  },
  {
   "cell_type": "markdown",
   "metadata": {},
   "source": [
    "Ejercicio 3. Pide al usuario la posición de un elemento en la lista anterior. Elimina de la lista la palabra que se encuentra en esa\n",
    "posición y muestra la lista resultante."
   ]
  },
  {
   "cell_type": "code",
   "execution_count": 5,
   "metadata": {},
   "outputs": [
    {
     "name": "stdout",
     "output_type": "stream",
     "text": [
      "['que', 'tal', 'va', 'bien', 'yo', 'hola']\n"
     ]
    }
   ],
   "source": [
    "numero=int(input(f\"Dame un número entre el 1 y el {len(lista)}:\"))\n",
    "while numero<1 or numero>7:\n",
    "    print(f\"Ep, te he dicho entre el 0 y el {len(lista)}.\")\n",
    "    numero=int(input(f\"Dame un número entre el 1 y el {len(lista)}:\"))\n",
    "del lista[numero-1]\n",
    "print(lista)\n"
   ]
  },
  {
   "cell_type": "markdown",
   "metadata": {},
   "source": [
    "Ejercicio 4. Crea un diccionario con 10 palabras en inglés y su traducción al español.\n",
    "Permite que el usuario realice 3 consultas para traducir palabras del inglés al español."
   ]
  },
  {
   "cell_type": "code",
   "execution_count": 5,
   "metadata": {},
   "outputs": [
    {
     "name": "stdout",
     "output_type": "stream",
     "text": [
      "La palabra 1 no está en el diccionario\n",
      "La traducción de Hello es Hola\n",
      "La traducción de Hello es Hola\n",
      "La traducción de Hello es Hola\n"
     ]
    }
   ],
   "source": [
    "ingles_español={\"Hello\":\"Hola\",\"Laptob\":\"Ordenador\",\"Screen\":\"Pantalla\", \"Keyborard\":\"Teclado\",\"Fingers\":\"Dedos\",\"Watch\":\"Reloj\",\"Shoes\":\"Zapatos\",\"Teacher\":\"Profesor\",\"Belt\":\"Cinturón\",\"Bottles\":\"Botella\"}\n",
    "i=0\n",
    "while i in range(0,3):\n",
    "    palabra=input(\"Qué de las palabras quieres traducir?\")\n",
    "    if palabra in ingles_español:\n",
    "        print(f\"La traducción de {palabra} es {ingles_español[palabra]}\")\n",
    "        i += 1\n",
    "    else:\n",
    "        print(f\"La palabra {palabra} no está en el diccionario\")\n",
    "        continue\n",
    "\n"
   ]
  },
  {
   "cell_type": "markdown",
   "metadata": {},
   "source": [
    "Ejercicio 5. Añade 4 palabras más al diccionario anterior y muestra el diccionario completo actualizado."
   ]
  },
  {
   "cell_type": "code",
   "execution_count": 4,
   "metadata": {},
   "outputs": [
    {
     "name": "stdout",
     "output_type": "stream",
     "text": [
      "{'Hello': 'Hola', 'Laptob': 'Ordenador', 'Screen': 'Pantalla', 'Keyborard': 'Teclado', 'Fingers': 'Dedos', 'Watch': 'Reloj', 'Shoes': 'Zapatos', 'Teacher': 'Profesor', 'Belt': 'Cinturón', 'Bottles': 'Botella', 'table': 'mesa', 'silla': 'chair', 'mobile': 'telefono', 'other': 'otros'}\n"
     ]
    }
   ],
   "source": [
    "for i in range(0,4):\n",
    "    palabra=input(\"Dame una palabra en español:\")\n",
    "    traduccion=input(\"Dame su traducción.\")\n",
    "    ingles_español.update({traduccion : palabra})\n",
    "print(ingles_español)"
   ]
  },
  {
   "cell_type": "markdown",
   "metadata": {},
   "source": [
    "Ejercicio 6. Solicita al usuario 10 palabras, guárdalas en una lista y muéstralas en orden inverso (de la última a la primera)."
   ]
  },
  {
   "cell_type": "code",
   "execution_count": 6,
   "metadata": {},
   "outputs": [
    {
     "name": "stdout",
     "output_type": "stream",
     "text": [
      "10\n",
      "9\n",
      "8\n",
      "7\n",
      "6\n",
      "5\n",
      "4\n",
      "3\n",
      "2\n"
     ]
    }
   ],
   "source": [
    "lista=[]\n",
    "for i in range(0,10):\n",
    "    palabra=input(\"Dame una palabra cualquiera: \")\n",
    "    lista.append(palabra)\n",
    "for i in range(1,len(lista)+1):\n",
    "    print(lista[-i])"
   ]
  },
  {
   "cell_type": "markdown",
   "metadata": {},
   "source": [
    "Ejercicio 7. Implementa un programa que simule una calculadora usando funciones:\n",
    "\n",
    "\n",
    "sumar(a, b)\n",
    "\n",
    "\n",
    "restar(a, b)\n",
    "\n",
    "multiplicar(a, b)\n",
    "\n",
    "\n",
    "dividir(a, b) \n",
    "(no obligatorio controla la división por cero).\n",
    "El programa debe pedir dos números y permitir elegir la operación para mostrar el resultado."
   ]
  },
  {
   "cell_type": "code",
   "execution_count": 7,
   "metadata": {},
   "outputs": [
    {
     "name": "stdout",
     "output_type": "stream",
     "text": [
      "Elige una opción de operación\n",
      "1 si quieres sumar.\n",
      "2 si quieres restar.\n",
      "3 si quieres multiplicar.\n",
      "4 si quieres dividir.\n"
     ]
    },
    {
     "data": {
      "text/plain": [
       "'El resultado de la división es 12'"
      ]
     },
     "execution_count": 7,
     "metadata": {},
     "output_type": "execute_result"
    }
   ],
   "source": [
    "def sumar(a,b):\n",
    "    return f\"El resultado de la suma es {a+b}\"\n",
    "def restar(a,b):\n",
    "    return f\"El resultado de la resta es {a-b}\"\n",
    "\n",
    "def multiplicar(a,b):\n",
    "    return f\"El resultado de la multiplicación es {a*b}\"\n",
    "def dividir(a,b):\n",
    "    if b==0:\n",
    "        return \"No se puede dividir por 0\"\n",
    "    else:\n",
    "        return f\"El resultado de la división es {a/b}\"\n",
    "a=int(input(\"Dame el primer número:\"))\n",
    "b=int(input(\"Dame el primer número:\"))\n",
    "print(\"Elige una opción de operación\")   \n",
    "print(\"1 si quieres sumar.\")\n",
    "print(\"2 si quieres restar.\")\n",
    "print(\"3 si quieres multiplicar.\")\n",
    "print(\"4 si quieres dividir.\")\n",
    "operacion=int(input(\"Dame el número de la operación que quieres.\"))\n",
    "operaciones={1:sumar(a,b),2:restar(a,b),3:multiplicar(a,b), 4:dividir(a,b)}\n",
    "operaciones[operacion]\n",
    "\n",
    "\n"
   ]
  },
  {
   "cell_type": "markdown",
   "metadata": {},
   "source": [
    "Ejercicio 8. Solicita 10 números, guárdalos en una lista y muéstralos recorriendo la lista con un bucle for."
   ]
  },
  {
   "cell_type": "code",
   "execution_count": 2,
   "metadata": {},
   "outputs": [
    {
     "name": "stdout",
     "output_type": "stream",
     "text": [
      "El numero 0 de la lista es 1\n",
      "El numero 1 de la lista es 2\n",
      "El numero 2 de la lista es 3\n",
      "El numero 3 de la lista es 4\n",
      "El numero 4 de la lista es 5\n",
      "El numero 5 de la lista es 6\n",
      "El numero 6 de la lista es 7\n",
      "El numero 7 de la lista es 8\n",
      "El numero 8 de la lista es 9\n",
      "El numero 9 de la lista es 10\n"
     ]
    }
   ],
   "source": [
    "lista=[]\n",
    "for i in range(0,10):\n",
    "    numero=int(input(\"Dame un número.\"))\n",
    "    lista.append(numero)\n",
    "for i in range(0,len(lista)):\n",
    "    print(f\"El numero {i} de la lista es {lista[i]}\")"
   ]
  },
  {
   "cell_type": "markdown",
   "metadata": {},
   "source": [
    "Ejercicio 9. Ordena la lista del ejercicio anterior de menor a mayor y muéstrala por pantalla"
   ]
  },
  {
   "cell_type": "code",
   "execution_count": 4,
   "metadata": {},
   "outputs": [
    {
     "name": "stdout",
     "output_type": "stream",
     "text": [
      "[2, 3, 3, 4, 5, 5, 6]\n"
     ]
    }
   ],
   "source": [
    "def minimo(lista):\n",
    "    min=lista[0]\n",
    "    for i in range(0,len(lista)):\n",
    "        if lista[i]<=min:\n",
    "            min=lista[i]\n",
    "    return min  \n",
    "def ordenar_lista(lista): \n",
    "    ordenada=[]\n",
    "    n=len(lista)\n",
    "    while len(lista)>0:\n",
    "        min=minimo(lista)\n",
    "        ordenada.append(min)\n",
    "        indice=lista.index(min)\n",
    "        del lista[indice]\n",
    "    return ordenada\n",
    "lista=[3,2,4,5,3,5,6]\n",
    "lista_ordenada=ordenar_lista(lista)\n",
    "print(lista_ordenada)"
   ]
  },
  {
   "cell_type": "markdown",
   "metadata": {},
   "source": [
    "#### Ahorcado"
   ]
  },
  {
   "cell_type": "markdown",
   "metadata": {},
   "source": [
    "Ejercicio ahorcado."
   ]
  },
  {
   "cell_type": "code",
   "execution_count": null,
   "metadata": {},
   "outputs": [],
   "source": [
    "palabra=input(\"Elige que palabra utilizar para el juego del ahorcado.\")"
   ]
  }
 ],
 "metadata": {
  "kernelspec": {
   "display_name": "Python 3",
   "language": "python",
   "name": "python3"
  },
  "language_info": {
   "codemirror_mode": {
    "name": "ipython",
    "version": 3
   },
   "file_extension": ".py",
   "mimetype": "text/x-python",
   "name": "python",
   "nbconvert_exporter": "python",
   "pygments_lexer": "ipython3",
   "version": "3.9.2"
  }
 },
 "nbformat": 4,
 "nbformat_minor": 2
}
