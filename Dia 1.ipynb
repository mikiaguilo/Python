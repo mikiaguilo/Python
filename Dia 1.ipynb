{
 "cells": [
  {
   "cell_type": "markdown",
   "metadata": {},
   "source": [
    "# Primera clase"
   ]
  },
  {
   "cell_type": "markdown",
   "metadata": {},
   "source": [
    "## Primer tema"
   ]
  },
  {
   "cell_type": "markdown",
   "metadata": {},
   "source": [
    "Ejercicio 1. Crea dos variables: variable1 con el valor numérico 5 y variable2 con el valor de texto \"Hola\"."
   ]
  },
  {
   "cell_type": "code",
   "execution_count": null,
   "metadata": {},
   "outputs": [],
   "source": [
    "variable1=5\n",
    "variable2='Hola'"
   ]
  },
  {
   "cell_type": "markdown",
   "metadata": {},
   "source": [
    "Ejercicio 2. Crea dos variables: variable1 y variable2 que reciban valores por teclado. Después, muestra el\n",
    "resultado de su multiplicación."
   ]
  },
  {
   "cell_type": "code",
   "execution_count": 3,
   "metadata": {},
   "outputs": [
    {
     "name": "stdout",
     "output_type": "stream",
     "text": [
      "15\n"
     ]
    }
   ],
   "source": [
    "variable1=int(input(\"Crea variable 1\"))\n",
    "variable2=int(input(\"Crea variable 2:\"))\n",
    "print(variable1*variable2)"
   ]
  },
  {
   "cell_type": "markdown",
   "metadata": {},
   "source": [
    "Ejercicio 3. Pide tu nombre por teclado y muestra un mensaje personalizado deseándote un buen día."
   ]
  },
  {
   "cell_type": "code",
   "execution_count": 4,
   "metadata": {},
   "outputs": [
    {
     "name": "stdout",
     "output_type": "stream",
     "text": [
      "Buenos días Miki\n"
     ]
    }
   ],
   "source": [
    "nombre=input('¿Cuál es tu nombre?')\n",
    "print(f\"Buenos días {nombre}\")"
   ]
  },
  {
   "cell_type": "markdown",
   "metadata": {},
   "source": [
    "Ejercicio 4. Pide tres variables: variable1, variable2 y variable3. Introduce en ellas valores numéricos por teclado. Si los tres son iguales, el programa mostrará True; en caso contrario, False. (Todavía no podemos usar if)."
   ]
  },
  {
   "cell_type": "code",
   "execution_count": 6,
   "metadata": {},
   "outputs": [
    {
     "data": {
      "text/plain": [
       "True"
      ]
     },
     "execution_count": 6,
     "metadata": {},
     "output_type": "execute_result"
    }
   ],
   "source": [
    "variable1=int(input(\"Valor de la variable 1:\"))\n",
    "variable2=int(input(\"Valor de la variable 2:\"))\n",
    "variable3=int(input(\"Valor de la variable 3:\"))\n",
    "variable1 == variable2 and variable2 == variable3"
   ]
  },
  {
   "cell_type": "markdown",
   "metadata": {},
   "source": [
    "Ejercicio 5. Pide tres variables: variable1, variable2 y variable3. Introduce en ellas valores numéricos por teclado. Si alguna de ellas es mayor que 100, el programa mostrará True; en caso contrario, False. (Todavía no podemos usar if)."
   ]
  },
  {
   "cell_type": "code",
   "execution_count": 9,
   "metadata": {},
   "outputs": [
    {
     "data": {
      "text/plain": [
       "True"
      ]
     },
     "execution_count": 9,
     "metadata": {},
     "output_type": "execute_result"
    }
   ],
   "source": [
    "variable1=int(input(\"Valor de la variable 1:\"))\n",
    "variable2=int(input(\"Valor de la variable 2:\"))\n",
    "variable3=int(input(\"Valor de la variable 3:\"))\n",
    "variable1>100 or variable2>100 or variable3>100"
   ]
  },
  {
   "cell_type": "markdown",
   "metadata": {},
   "source": [
    "## Segundo tema"
   ]
  },
  {
   "cell_type": "markdown",
   "metadata": {},
   "source": [
    "Ejercicio 1. Crea una variable llamada valor1 que contenga el número 5 y una variable llamada valor2 que contenga el texto \"Comiendo a programar\""
   ]
  },
  {
   "cell_type": "code",
   "execution_count": 1,
   "metadata": {},
   "outputs": [],
   "source": [
    "valor1=5\n",
    "valor2=\"Comiendo a programar\""
   ]
  },
  {
   "cell_type": "markdown",
   "metadata": {},
   "source": [
    "Ejercicio 2. Solicita el nombre del usuario por teclado y, una vez introducido, muestra un mensaje personalizado dándole los buenos días"
   ]
  },
  {
   "cell_type": "code",
   "execution_count": 2,
   "metadata": {},
   "outputs": [
    {
     "name": "stdout",
     "output_type": "stream",
     "text": [
      "Buenos días Miki\n"
     ]
    }
   ],
   "source": [
    "nombre=input(\"¿Cómo te llamas?\")\n",
    "print(f'Buenos días {nombre}')"
   ]
  },
  {
   "cell_type": "markdown",
   "metadata": {},
   "source": [
    "Ejercicio 3. Pide un número por teclado y muestra un mensaje indicando si es positivo."
   ]
  },
  {
   "cell_type": "code",
   "execution_count": 3,
   "metadata": {},
   "outputs": [
    {
     "name": "stdout",
     "output_type": "stream",
     "text": [
      "El número es positivo\n"
     ]
    }
   ],
   "source": [
    "número=int(input(\"Escribe un número:\"))\n",
    "if número>0:\n",
    "    print(\"El número es positivo\")\n",
    "elif número==0:\n",
    "    print(\"El número es 0\")\n",
    "else:\n",
    "    print(\"El número es negativo\")"
   ]
  },
  {
   "cell_type": "markdown",
   "metadata": {},
   "source": [
    "Ejercicio 4. Solicita tres números por teclado y muestra cuál de ellos es el mayor"
   ]
  },
  {
   "cell_type": "code",
   "execution_count": 7,
   "metadata": {},
   "outputs": [
    {
     "name": "stdout",
     "output_type": "stream",
     "text": [
      "El valor máximo es 10\n"
     ]
    }
   ],
   "source": [
    "numeros=[int(input(\"Valor del primer número:\")), int(input(\"Valor del segundo número:\")), int(input(\"Valor del tercer número:\"))]\n",
    "max=numeros[0]\n",
    "for n in numeros:\n",
    "    if max<=n:\n",
    "        max=n\n",
    "print(f'El valor máximo es {max}')\n"
   ]
  },
  {
   "cell_type": "markdown",
   "metadata": {},
   "source": [
    "Ejercicio 5. Pide un número por teclado hasta que se introduzca un valor oomprendido entre 1000 y 1500."
   ]
  },
  {
   "cell_type": "code",
   "execution_count": 10,
   "metadata": {},
   "outputs": [
    {
     "name": "stdout",
     "output_type": "stream",
     "text": [
      "1200\n"
     ]
    }
   ],
   "source": [
    "n=int(input(\"Escribe un número\"))\n",
    "while n>1500 or n<1000:\n",
    "    n=int(input(\"Este número no está entre 1000 y 1500, prueba con otro:\"))\n",
    "print(n)"
   ]
  },
  {
   "cell_type": "markdown",
   "metadata": {},
   "source": [
    "Ejercicio 6. Introduce un número entre 1 y 10 y muestra su tabla de multiplicar."
   ]
  },
  {
   "cell_type": "code",
   "execution_count": 12,
   "metadata": {},
   "outputs": [
    {
     "name": "stdout",
     "output_type": "stream",
     "text": [
      "7·0=0\n",
      "7·1=7\n",
      "7·2=14\n",
      "7·3=21\n",
      "7·4=28\n",
      "7·5=35\n",
      "7·6=42\n",
      "7·7=49\n",
      "7·8=56\n",
      "7·9=63\n",
      "7·10=70\n"
     ]
    }
   ],
   "source": [
    "n=int(input(\"Dame un número entre el 1 y el 10:\"))\n",
    "for i in range(0,11):\n",
    "    print(f'{n}·{i}={n*i}')"
   ]
  },
  {
   "cell_type": "markdown",
   "metadata": {},
   "source": [
    "Ejercicio 7. . Lee dos números por teclado y muestra el siguiente menú de opciones:\n",
    "1. Sumar\n",
    "2. Restar\n",
    "3. Multiplicar\n",
    "4. Dividir\n",
    "\n",
    "A continuación, pide por teclado un número entero entre 1 y 4.Según la opción elegida, muestra el resultado de la operación correspondiente con los dos números\n",
    "introducidos."
   ]
  },
  {
   "cell_type": "code",
   "execution_count": 13,
   "metadata": {},
   "outputs": [
    {
     "name": "stdout",
     "output_type": "stream",
     "text": [
      "Pulas 1 para sumar\n",
      "Pulas 2 para restar\n",
      "Pulsa 3 para multiplicar\n",
      "Pulsa 4 para dividir\n",
      "El resultado de la suma es 9\n"
     ]
    }
   ],
   "source": [
    "numero_1=int(input('Dame el valor de un número:'))\n",
    "numero_2=int(input('Dame el valor de un número:'))\n",
    "print(\"Pulas 1 para sumar\")\n",
    "print(\"Pulas 2 para restar\")\n",
    "print(\"Pulsa 3 para multiplicar\")\n",
    "print(\"Pulsa 4 para dividir\")\n",
    "eleccion=int(input(\"Escoje una opción entre 1-4:\"))\n",
    "if eleccion==1:\n",
    "    print(f\"El resultado de la suma es {numero_1+numero_2}\")\n",
    "if eleccion==2:\n",
    "    print(f\"El resultado de la resta es {numero_1-numero_2}\")\n",
    "if eleccion==3:\n",
    "    print(f\"El resultado de la multiplicación es {numero_1*numero_2}\")\n",
    "if eleccion==4:\n",
    "    print(f\"El resultado de la división es {numero_1/numero_2}\")\n"
   ]
  },
  {
   "cell_type": "markdown",
   "metadata": {},
   "source": [
    "Ejercicio 8. Pide por teclado una nota numérica entera entre 1 y 10.\n",
    "Según el valor introducido, muestra un mensaje indicando la calificación correspondiente\n",
    "según este baremo:\n",
    "- 1 a 4 → Suspenso\n",
    "- 5 a 6 → Bien\n",
    "- 7 a 8 → Notable\n",
    "- 9 a 10 → Sobresaliente"
   ]
  },
  {
   "cell_type": "code",
   "execution_count": 14,
   "metadata": {},
   "outputs": [
    {
     "name": "stdout",
     "output_type": "stream",
     "text": [
      "Tu nota es un suspenso\n"
     ]
    }
   ],
   "source": [
    "nota = int(input(\"Dame una nota numérica entera:\"))\n",
    "if 1<=nota<=4:\n",
    "    print(\"Tu nota es un suspenso\")\n",
    "if 5<=nota<=6:\n",
    "    print(\"Tu nota es un suficiente\")\n",
    "if 7<=nota<=8:\n",
    "    print(\"Tu nota es un notable\")\n",
    "if 9<=nota<=10:\n",
    "    print(\"Tu nota es un excelente\")"
   ]
  },
  {
   "cell_type": "markdown",
   "metadata": {},
   "source": [
    "Ejercicio 9. Crea un juego de adivinanza para dos jugadores:\n",
    "El primer jugador introduce un número comprendido entre 1 y 1000. El segundo jugador debe adivinarlo en un máximo de 10 intentos. Tras cada intento, el programa indicará si el número buscado es menor o mayor que el introducido. Si acierta, mostrará un mensaje de éxito; si no lo logra en los 10 intentos, mostrará un\n",
    "mensaje de que ha perdido."
   ]
  },
  {
   "cell_type": "code",
   "execution_count": 16,
   "metadata": {},
   "outputs": [
    {
     "name": "stdout",
     "output_type": "stream",
     "text": [
      "El número que me has dado es menor que el númerop secreto... Te quedan 9 intentos!\n",
      "El número que me has dado es mayor que el númerop secreto... Te quedan 8 intentos!\n",
      "Has acertado en tu intento 3! El número secreto era 500!\n"
     ]
    }
   ],
   "source": [
    "numero_elegido=int(input(\"Elige un número del 1 al 1000:\"))\n",
    "i=0\n",
    "encierto=False\n",
    "while i in range(10) and encierto==False:\n",
    "    intento=int(input(f'Tu intento número {i+1} es:'))\n",
    "    if intento == numero_elegido:\n",
    "        encierto=True\n",
    "        print(f'Has acertado en tu intento {i+1}! El número secreto era {numero_elegido}!')\n",
    "    if intento<numero_elegido:\n",
    "        print(f'El número que me has dado es menor que el númerop secreto... Te quedan {10-(i+1)} intentos!')\n",
    "        i += 1\n",
    "    if intento>numero_elegido:\n",
    "        print(f'El número que me has dado es mayor que el númerop secreto... Te quedan {10-(i+1)} intentos!')\n",
    "        i += 1\n",
    "if encierto == False:\n",
    "    print(\"Lo siento, no has adivinado el número secreto... Inténtalo otra vez!\")\n",
    "\n"
   ]
  },
  {
   "cell_type": "markdown",
   "metadata": {},
   "source": [
    "### Ejercicios de refuerzo"
   ]
  },
  {
   "cell_type": "markdown",
   "metadata": {},
   "source": [
    "Ejercicio 1. Pide un número entero por teclado y muestra si es par o impar."
   ]
  },
  {
   "cell_type": "code",
   "execution_count": 21,
   "metadata": {},
   "outputs": [
    {
     "name": "stdout",
     "output_type": "stream",
     "text": [
      "El número es impar.\n"
     ]
    }
   ],
   "source": [
    "numero= int(input(\"Dame un número:\"))\n",
    "if numero % 2==0:\n",
    "    print(\"El número es par.\")\n",
    "if numero % 2!=0:\n",
    "    print(\"El número es impar.\")"
   ]
  },
  {
   "cell_type": "markdown",
   "metadata": {},
   "source": [
    "Ejercicio 2. Pide un número del 1 al 12 e indica a qué mes del año corresponde."
   ]
  },
  {
   "cell_type": "code",
   "execution_count": 22,
   "metadata": {},
   "outputs": [
    {
     "name": "stdout",
     "output_type": "stream",
     "text": [
      "Estamos en el mes Marzo\n"
     ]
    }
   ],
   "source": [
    "meses={1:\"Enero\", 2:\"Febrero\", 3:\"Marzo\", 4:\"Abril\", 5:\"Mayo\", 6:\"Junio\", 7:\"Julio\", 8:\"Agosto\", 9:\"Septiembre\", 10: \"Octubre\", 11: \"Noviembre\", 12:\"Diciembre\"}\n",
    "mes=int(input('Dime un número de mes:'))\n",
    "print(f'Estamos en el mes {meses[mes]}')"
   ]
  },
  {
   "cell_type": "markdown",
   "metadata": {},
   "source": [
    "Ejercicio 3. Solicita un número entero y muestra la suma de todos los números desde 1 hasta ese número."
   ]
  },
  {
   "cell_type": "code",
   "execution_count": 27,
   "metadata": {},
   "outputs": [
    {
     "name": "stdout",
     "output_type": "stream",
     "text": [
      "La suma de todos los enteros desde 1 hasta 10 incluido es 55\n"
     ]
    }
   ],
   "source": [
    "numero=int(input(\"Dame un valor\"))\n",
    "contador=0\n",
    "for i in range(0,numero+1):\n",
    "    contador += i\n",
    "print(f'La suma de todos los enteros desde 1 hasta {numero} incluido es {contador}')"
   ]
  },
  {
   "cell_type": "markdown",
   "metadata": {},
   "source": [
    "Ejercicio 4. Muestra todos los números pares entre 1 y 100."
   ]
  },
  {
   "cell_type": "code",
   "execution_count": 30,
   "metadata": {},
   "outputs": [
    {
     "name": "stdout",
     "output_type": "stream",
     "text": [
      "0\n",
      "2\n",
      "4\n",
      "6\n",
      "8\n",
      "10\n",
      "12\n",
      "14\n",
      "16\n",
      "18\n",
      "20\n",
      "22\n",
      "24\n",
      "26\n",
      "28\n",
      "30\n",
      "32\n",
      "34\n",
      "36\n",
      "38\n",
      "40\n",
      "42\n",
      "44\n",
      "46\n",
      "48\n",
      "50\n",
      "52\n",
      "54\n",
      "56\n",
      "58\n",
      "60\n",
      "62\n",
      "64\n",
      "66\n",
      "68\n",
      "70\n",
      "72\n",
      "74\n",
      "76\n",
      "78\n",
      "80\n",
      "82\n",
      "84\n",
      "86\n",
      "88\n",
      "90\n",
      "92\n",
      "94\n",
      "96\n",
      "98\n",
      "100\n"
     ]
    }
   ],
   "source": [
    "i=0\n",
    "parell=0\n",
    "while parell<100:\n",
    "    parell=i*2\n",
    "    print(parell)\n",
    "    i += 1"
   ]
  },
  {
   "cell_type": "markdown",
   "metadata": {},
   "source": [
    "Ejercicio 5. Crea un programa que muestre un contador regresivo desde 10 hasta 1 y al final muestre el mensaje \"¡Despegue!\"."
   ]
  },
  {
   "cell_type": "code",
   "execution_count": 40,
   "metadata": {},
   "outputs": [
    {
     "name": "stdout",
     "output_type": "stream",
     "text": [
      "10\n",
      "9\n",
      "8\n",
      "7\n",
      "6\n",
      "5\n",
      "4\n",
      "3\n",
      "2\n",
      "1\n",
      "¡Despegue!\n"
     ]
    }
   ],
   "source": [
    "import time\n",
    "tiempo=1\n",
    "lista=['¡Despegue!']\n",
    "for i in range(1,11):\n",
    "    lista.append(i)\n",
    "for i in range(1,len(lista)+1):\n",
    "    print(lista[-i])\n",
    "    time.sleep(tiempo)"
   ]
  }
 ],
 "metadata": {
  "kernelspec": {
   "display_name": "base",
   "language": "python",
   "name": "python3"
  },
  "language_info": {
   "codemirror_mode": {
    "name": "ipython",
    "version": 3
   },
   "file_extension": ".py",
   "mimetype": "text/x-python",
   "name": "python",
   "nbconvert_exporter": "python",
   "pygments_lexer": "ipython3",
   "version": "3.13.5"
  }
 },
 "nbformat": 4,
 "nbformat_minor": 2
}
