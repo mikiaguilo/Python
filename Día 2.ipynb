{
 "cells": [
  {
   "cell_type": "markdown",
   "metadata": {},
   "source": [
    "# Segunda clase"
   ]
  },
  {
   "cell_type": "markdown",
   "metadata": {},
   "source": [
    "## Ejercicios extra"
   ]
  },
  {
   "cell_type": "markdown",
   "metadata": {},
   "source": [
    "## IF"
   ]
  },
  {
   "cell_type": "markdown",
   "metadata": {},
   "source": [
    "Ejercicio 1. Introduce el año actual y tu año de nacimiento. Muestra por pantalla tu edad."
   ]
  },
  {
   "cell_type": "code",
   "execution_count": 7,
   "metadata": {},
   "outputs": [
    {
     "name": "stdout",
     "output_type": "stream",
     "text": [
      "Tu edad es 23\n"
     ]
    }
   ],
   "source": [
    "año_actual=int(input(\"En que año estamos\"))\n",
    "año_nacimiento=int(input(\"En que año estamos\"))\n",
    "print(f'Tu edad es {año_actual-año_nacimiento}')\n"
   ]
  },
  {
   "cell_type": "markdown",
   "metadata": {},
   "source": [
    "Ejercicio 2. Inserta un valor por teclado por el cual preguntamos si es positivo o si esta entre -100 y -200.\n",
    "Muestra un mensaje diciendo si cumple o no las condiciones."
   ]
  },
  {
   "cell_type": "code",
   "execution_count": 9,
   "metadata": {},
   "outputs": [
    {
     "name": "stdout",
     "output_type": "stream",
     "text": [
      "Se cumple la condición!\n"
     ]
    }
   ],
   "source": [
    "numero=int(input(\"Elige el número real que quieras\"))\n",
    "if -200<=numero<=-100 or numero>0:\n",
    "    print(\"Se cumple la condición!\")\n",
    "else:\n",
    "    print(\"No se cumple\")"
   ]
  },
  {
   "cell_type": "markdown",
   "metadata": {},
   "source": [
    "Ejercicio 3. Exige introducir un valor entre -10 y -5. Una vez introducido muestra su valor en positivo."
   ]
  },
  {
   "cell_type": "code",
   "execution_count": 11,
   "metadata": {},
   "outputs": [
    {
     "name": "stdout",
     "output_type": "stream",
     "text": [
      "Tu numero en positivo es 7\n"
     ]
    }
   ],
   "source": [
    "numero=int(input(\"Elige un número entre -10 y -5\"))\n",
    "if numero<-10 or numero>-5:\n",
    "    print(\"Ep! Te he dicho entre -10 y -5.\")\n",
    "else:\n",
    "    print(f'Tu numero en positivo es {-numero}')"
   ]
  },
  {
   "cell_type": "markdown",
   "metadata": {},
   "source": [
    "Ejercicio 4. Introduce un año y di si es un año bisiesto. “Matemáticamente podemos saber si un año es bisiesto si este es múltiplo de 4. Si además es múltiplo de 100 no será bisiesto (ten en cuenta que 100 es múltiplo de 4 y por tanto cualquier número que sea múltiplo de 100 también es múltiplo de 4) a no ser que sea múltiplo de 400, que sí será bisiesto.”"
   ]
  },
  {
   "cell_type": "code",
   "execution_count": 15,
   "metadata": {},
   "outputs": [
    {
     "name": "stdout",
     "output_type": "stream",
     "text": [
      "El año 2024 es bisiesto\n"
     ]
    }
   ],
   "source": [
    "año=int(input(\"Introduce un año, el que quieras.\"))\n",
    "if (año%4 == 0 and año%100 != 0) or (año%400 == 0):\n",
    "    print(f\"El año {año} es bisiesto\")\n",
    "else:\n",
    "    print(f\"El año {año} no es bisiesto\")\n",
    "     "
   ]
  },
  {
   "cell_type": "markdown",
   "metadata": {},
   "source": [
    "## While"
   ]
  },
  {
   "cell_type": "markdown",
   "metadata": {},
   "source": [
    "Ejercicio 1. Pide un numero entre 10 y 100, muestra los numero que contiene hacia atrás, hasta llegar a 0"
   ]
  },
  {
   "cell_type": "code",
   "execution_count": 18,
   "metadata": {},
   "outputs": [
    {
     "name": "stdout",
     "output_type": "stream",
     "text": [
      "50\n",
      "49\n",
      "48\n",
      "47\n",
      "46\n",
      "45\n",
      "44\n",
      "43\n",
      "42\n",
      "41\n",
      "40\n",
      "39\n",
      "38\n",
      "37\n",
      "36\n",
      "35\n",
      "34\n",
      "33\n",
      "32\n",
      "31\n",
      "30\n",
      "29\n",
      "28\n",
      "27\n",
      "26\n",
      "25\n",
      "24\n",
      "23\n",
      "22\n",
      "21\n",
      "20\n",
      "19\n",
      "18\n",
      "17\n",
      "16\n",
      "15\n",
      "14\n",
      "13\n",
      "12\n",
      "11\n",
      "10\n",
      "9\n",
      "8\n",
      "7\n",
      "6\n",
      "5\n",
      "4\n",
      "3\n",
      "2\n",
      "1\n",
      "0\n"
     ]
    }
   ],
   "source": [
    "numero=int(input(\"Elige un numero entre 10 y 100:\"))\n",
    "if numero>100 or numero<10:\n",
    "    print(\"Ep, te he dicho entre 10 y 100.\")\n",
    "else:\n",
    "    print(numero)\n",
    "    while numero > 0:\n",
    "        numero -= 1\n",
    "        print(numero)"
   ]
  },
  {
   "cell_type": "markdown",
   "metadata": {},
   "source": [
    "Ejercicio 2. Pide un numero y muestra un triangulo rectángulo como el el indicado si pulsásemos 5\n",
    "\n",
    "\\#\n",
    "\n",
    "\\#\\#\n",
    "\n",
    "\\#\\#\\#\n",
    "\n",
    "\\#\\#\\#\\#\n",
    "\n",
    "\\#\\#\\#\\#\\#"
   ]
  },
  {
   "cell_type": "code",
   "execution_count": 30,
   "metadata": {},
   "outputs": [
    {
     "name": "stdout",
     "output_type": "stream",
     "text": [
      "#\n",
      "##\n",
      "###\n",
      "####\n",
      "#####\n"
     ]
    }
   ],
   "source": [
    "numero=int(input(\"Elige un numero entero positivo\"))\n",
    "if numero<=0:\n",
    "    print(\"Ep! Te he dicho positivo!\")\n",
    "else:\n",
    "    i=0\n",
    "    while i in range(numero):\n",
    "        j=0\n",
    "        while j in range(i+1):\n",
    "            if j<i:\n",
    "                print(\"#\", end=\"\")\n",
    "                j+=1\n",
    "            if j == i:\n",
    "                print(\"#\")\n",
    "                j+=1\n",
    "        i+=1\n",
    "        "
   ]
  },
  {
   "cell_type": "markdown",
   "metadata": {},
   "source": [
    "Ejercicio 3. Introduce un numero y di si es primo. ”primo es un número natural mayor que 1 que tiene únicamente dos divisores positivos distintos: él mismo y el 1”"
   ]
  },
  {
   "cell_type": "code",
   "execution_count": 39,
   "metadata": {},
   "outputs": [
    {
     "name": "stdout",
     "output_type": "stream",
     "text": [
      "1 no es primo\n"
     ]
    }
   ],
   "source": [
    "numero=int(input(\"Elige un número entero positivo\"))\n",
    "if numero<=0:\n",
    "    print(\"Ep! Tiene que ser un entero positivo\")\n",
    "else:\n",
    "    divisores=[]\n",
    "    i=1\n",
    "    while i<numero:\n",
    "        if i==1:\n",
    "            i += 1\n",
    "            continue        \n",
    "        if numero % i == 0:\n",
    "            divisores.append(i)\n",
    "            i += 1\n",
    "        else:\n",
    "            i+=1\n",
    "    if len(divisores) == 0 and numero != 1:\n",
    "        print(f\"{numero} es primo\")\n",
    "    else:\n",
    "        print(f\"{numero} no es primo\")\n",
    "\n",
    "\n",
    "        \n"
   ]
  },
  {
   "cell_type": "markdown",
   "metadata": {},
   "source": [
    "## For"
   ]
  },
  {
   "cell_type": "markdown",
   "metadata": {},
   "source": [
    "Ejercicio 1. "
   ]
  },
  {
   "cell_type": "code",
   "execution_count": 27,
   "metadata": {},
   "outputs": [
    {
     "name": "stdout",
     "output_type": "stream",
     "text": [
      "Este texto contiene la letra a\n",
      "Este texto contiene la letra a\n"
     ]
    }
   ],
   "source": [
    "texto=\"Hola qué tal?\"\n",
    "for letra in texto:\n",
    "    if (letra == 'a'):\n",
    "        print(\"Este texto contiene la letra a\") "
   ]
  },
  {
   "cell_type": "markdown",
   "metadata": {},
   "source": [
    "Ejercicio 2."
   ]
  },
  {
   "cell_type": "code",
   "execution_count": 28,
   "metadata": {},
   "outputs": [
    {
     "name": "stdout",
     "output_type": "stream",
     "text": [
      "La letra a aparece en tu texto 3 veces.\n"
     ]
    }
   ],
   "source": [
    "letra_a_buscar=input(\"¿Qué letra quieres encontrar?\")\n",
    "texto=input(\"Dame el texto que quieras:\")\n",
    "contador=0\n",
    "for letra in texto:\n",
    "    if letra==letra_a_buscar:\n",
    "        contador +=1\n",
    "print(f'La letra {letra_a_buscar} aparece en tu texto {contador} veces.')"
   ]
  }
 ],
 "metadata": {
  "kernelspec": {
   "display_name": "Python 3",
   "language": "python",
   "name": "python3"
  },
  "language_info": {
   "codemirror_mode": {
    "name": "ipython",
    "version": 3
   },
   "file_extension": ".py",
   "mimetype": "text/x-python",
   "name": "python",
   "nbconvert_exporter": "python",
   "pygments_lexer": "ipython3",
   "version": "3.9.2"
  }
 },
 "nbformat": 4,
 "nbformat_minor": 2
}
